{
 "cells": [
  {
   "cell_type": "code",
   "execution_count": null,
   "metadata": {},
   "outputs": [],
   "source": [
    "import numpy as np\n",
    "import pandas as pd\n",
    "from scipy import stats\n",
    "import pickle\n"
   ]
  },
  {
   "cell_type": "code",
   "execution_count": null,
   "metadata": {},
   "outputs": [],
   "source": [
    "well_list = pd.read_csv(\"./locations.csv\",sep=';',header = 0,encoding = 'Latin1')\n",
    "\n",
    "for loc in range(well_list.shape[0]):\n",
    "   \n",
    "    ID = well_list.alias[loc]\n",
    "    print(ID+\": \"+str(loc))\n",
    "    \n",
    "    method = 'lrp.z'\n",
    "    file = './analysis_'+ID+'_'+method.replace('.','')+'.pickle'\n",
    "\n",
    "    with open(file, 'rb') as f:\n",
    "        imports = pickle.load(f)\n",
    "    \n",
    "    GLOBAL_SETTINGS = {\n",
    "            'opt_start': pd.to_datetime('01012015', format='%d%m%Y'), \n",
    "            'test_start': pd.to_datetime('01012017', format='%d%m%Y'),\n",
    "            'test_end': pd.to_datetime('31122020', format='%d%m%Y')\n",
    "        }\n",
    "    seqlength = 52\n",
    "    y_list = imports['simulations']\n",
    "    sim_members = np.zeros(shape = (y_list[0].shape[0],20))\n",
    "    for i in range(20):\n",
    "        sim_members[:,i] = y_list[i].reshape(-1,)\n",
    "    sim_mean = np.nanmean(sim_members,axis = 1)\n",
    "    \n",
    "    data_investigate = imports['data_investigate']\n",
    "    data=data_investigate\n",
    "    obs = data_investigate['GWL']\n",
    "    sim = sim_mean\n",
    "    err = sim-obs\n",
    "    err_rel = (sim-obs)/(np.max(data['GWL'])-np.min(data['GWL']))\n",
    "    err_nash = obs - np.mean(np.asarray(data['GWL'][(data.index < GLOBAL_SETTINGS[\"test_start\"])]))\n",
    "    \n",
    "    NSE = 1 - ((np.sum(err ** 2)) / (np.sum((err_nash) ** 2)))\n",
    "    try:\n",
    "        r = stats.pearsonr(sim[:,], obs[:,])\n",
    "        r = r[0] #r\n",
    "    except:\n",
    "        r = [np.nan, np.nan]\n",
    "        r = r[0] #r\n",
    "    R2 = r ** 2\n",
    "    alpha = np.std(sim)/np.std(obs)\n",
    "    beta = np.mean(sim)/np.mean(obs)\n",
    "    KGE = 1-np.sqrt((r-1)**2+(alpha-1)**2+(beta-1)**2) #KGE\n",
    "    \n",
    "    scores = pd.DataFrame(np.array([[NSE, KGE, R2]]),\n",
    "                   columns=['NSE', 'KGE','R2'])\n",
    "    scores.to_csv('./scores_full_timeseries_'+ID+'.txt',float_format='%.3f',index=False)\n",
    "           \n"
   ]
  }
 ],
 "metadata": {
  "kernelspec": {
   "display_name": ".venv",
   "language": "python",
   "name": "python3"
  },
  "language_info": {
   "name": "python",
   "version": "3.8.10"
  }
 },
 "nbformat": 4,
 "nbformat_minor": 2
}
