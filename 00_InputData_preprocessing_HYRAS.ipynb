{
 "cells": [
  {
   "cell_type": "markdown",
   "metadata": {},
   "source": [
    "To run this script you need a different environment, which includes xarray and pyproj. You can get the data as indicated below via opendata.dwd.de"
   ]
  },
  {
   "cell_type": "code",
   "execution_count": null,
   "metadata": {},
   "outputs": [],
   "source": [
    "import pandas as pd\n",
    "import xarray as xr\n",
    "import numpy as np\n",
    "from tqdm import tqdm\n",
    "import pyproj"
   ]
  },
  {
   "cell_type": "code",
   "execution_count": null,
   "metadata": {},
   "outputs": [],
   "source": [
    "\n",
    "#read list of locations\n",
    "Well_list = pd.read_csv(\"./locations.csv\",\n",
    "                        sep=';',header = 0,encoding = 'Latin1')\n",
    "\n",
    "# transform lat lon in hyras projection: EPSG:3034\n",
    "proj_wgs84 = pyproj.Proj(init=\"epsg:4326\")\n",
    "proj_hyras = pyproj.Proj(init=\"epsg:3034\") # ETRS89 / LCC Europe (EPSG:3034)\n",
    "Well_list['XHYRAS'], Well_list['YHYRAS'] = pyproj.transform(proj_wgs84, proj_hyras, Well_list['Lon'], Well_list['Lat'])\n",
    "\n",
    "\n"
   ]
  },
  {
   "cell_type": "code",
   "execution_count": null,
   "metadata": {},
   "outputs": [],
   "source": [
    "\n",
    "#get the data here: https://opendata.dwd.de/climate_environment/CDC/grids_germany/daily/hyras_de/\n",
    "\n",
    "#read nc files\n",
    "file = './pr_hyras_1_1931_2020_v5-0_de.nc'\n",
    "ds_P = xr.open_dataset(file)\n",
    "\n",
    "file = './tas_hyras_5_1951_2020_v5-0_de.nc'\n",
    "ds_T = xr.open_dataset(file)\n",
    "\n"
   ]
  },
  {
   "cell_type": "code",
   "execution_count": null,
   "metadata": {},
   "outputs": [],
   "source": [
    "#loop locations\n",
    "for loc in tqdm(range(Well_list.shape[0])):\n",
    "    \n",
    "    ID = Well_list['ID'][loc]\n",
    "    yhyras = Well_list['YHYRAS'][loc]\n",
    "    xhyras = Well_list['XHYRAS'][loc]\n",
    "\n",
    "    #Precipitation\n",
    "    data_P = np.asarray(ds_P.pr.sel(x=xhyras, y=yhyras, method='nearest'),dtype='float64')\n",
    "    t_P = ds_P.time.values\n",
    "    t_P = pd.to_datetime(t_P)\n",
    "    \n",
    "    P_daily = pd.DataFrame(data=data_P,index=t_P,columns=((['P'])))\n",
    "    \n",
    "    P_weekly = P_daily.resample(\"W-Mon\").sum()\n",
    "    P_weekly['P'] = np.round(P_weekly,2)\n",
    "    P_weekly['P'] = P_weekly['P'].astype('float64')\n",
    "\n",
    "    #Temperature\n",
    "    data_T = np.asarray(ds_T.tas.sel(x=xhyras, y=yhyras, method='nearest'),dtype='float64')\n",
    "    t_T = ds_T.time.values\n",
    "    t_T = pd.to_datetime(t_T)\n",
    "    \n",
    "    T_daily = pd.DataFrame(data=data_T,index=t_T,columns=((['T'])))\n",
    "            \n",
    "    T_weekly = T_daily.resample(\"W-Mon\").mean()\n",
    "    T_weekly['T'] = np.round(T_weekly,2)\n",
    "    T_weekly['T'] = T_weekly['T'].astype('float64')\n",
    "    \n",
    "    #join P and T\n",
    "    weekly = pd.concat([P_weekly,T_weekly],axis = 1,join = 'inner',ignore_index=False, copy = True)\n",
    "    \n",
    "    \n",
    "    # save \n",
    "    path = '/.'# change accordingly\n",
    "    file = path+ID+'_Hyras_weekly.csv'\n",
    "    weekly.to_csv(file,sep=',',index_label = 'Date')\n",
    "\n",
    "    "
   ]
  }
 ],
 "metadata": {
  "kernelspec": {
   "display_name": ".venv",
   "language": "python",
   "name": "python3"
  },
  "language_info": {
   "name": "python",
   "version": "3.8.10"
  }
 },
 "nbformat": 4,
 "nbformat_minor": 2
}
